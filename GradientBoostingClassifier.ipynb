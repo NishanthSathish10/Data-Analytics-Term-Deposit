{
  "nbformat": 4,
  "nbformat_minor": 0,
  "metadata": {
    "colab": {
      "name": " Gradient Boosted Classifier - Grid Search.ipynb",
      "provenance": [],
      "collapsed_sections": []
    },
    "kernelspec": {
      "name": "python3",
      "display_name": "Python 3"
    },
    "language_info": {
      "name": "python"
    }
  },
  "cells": [
    {
      "cell_type": "code",
      "metadata": {
        "id": "LcEU2lU0bFnB"
      },
      "source": [
        "import pandas as pd\n",
        "import numpy as np\n",
        "import matplotlib.pyplot as plt\n",
        "import scipy.stats as st\n",
        "import seaborn as sns\n",
        "import pandas_profiling\n",
        "from sklearn.ensemble import GradientBoostingClassifier\n",
        "import sklearn\n",
        "%matplotlib inline\n"
      ],
      "execution_count": null,
      "outputs": []
    },
    {
      "cell_type": "code",
      "metadata": {
        "id": "aUiDQa0PeKDq"
      },
      "source": [
        "df=pd.read_csv('/content/drive/MyDrive/DA Project/bank-additional-full.csv',sep=';')"
      ],
      "execution_count": null,
      "outputs": []
    },
    {
      "cell_type": "code",
      "metadata": {
        "id": "soMzQXfreP4C"
      },
      "source": [
        "del df['duration'] # deleting the column duration\n",
        "cols_num = ['campaign', 'pdays',\n",
        "       'previous', 'emp.var.rate', 'cons.price.idx','cons.conf.idx', 'nr.employed','age','euribor3m']\n",
        "cols_cat = ['job', 'marital', \n",
        "       'education', 'default',\n",
        "       'housing', 'loan', 'contact', 'month',\n",
        "       'day_of_week', 'poutcome']"
      ],
      "execution_count": null,
      "outputs": []
    },
    {
      "cell_type": "code",
      "metadata": {
        "colab": {
          "base_uri": "https://localhost:8080/",
          "height": 243
        },
        "id": "e3GuHIHfeai0",
        "outputId": "760dd979-ca23-456a-e356-9b03c1a55811"
      },
      "source": [
        "df[cols_cat] #encoding categorical variables\n",
        "cols_new_cat=pd.get_dummies(df[cols_cat],drop_first = False)\n",
        "cols_new_cat.head()"
      ],
      "execution_count": null,
      "outputs": [
        {
          "output_type": "execute_result",
          "data": {
            "text/html": [
              "<div>\n",
              "<style scoped>\n",
              "    .dataframe tbody tr th:only-of-type {\n",
              "        vertical-align: middle;\n",
              "    }\n",
              "\n",
              "    .dataframe tbody tr th {\n",
              "        vertical-align: top;\n",
              "    }\n",
              "\n",
              "    .dataframe thead th {\n",
              "        text-align: right;\n",
              "    }\n",
              "</style>\n",
              "<table border=\"1\" class=\"dataframe\">\n",
              "  <thead>\n",
              "    <tr style=\"text-align: right;\">\n",
              "      <th></th>\n",
              "      <th>job_admin.</th>\n",
              "      <th>job_blue-collar</th>\n",
              "      <th>job_entrepreneur</th>\n",
              "      <th>job_housemaid</th>\n",
              "      <th>job_management</th>\n",
              "      <th>job_retired</th>\n",
              "      <th>job_self-employed</th>\n",
              "      <th>job_services</th>\n",
              "      <th>job_student</th>\n",
              "      <th>job_technician</th>\n",
              "      <th>job_unemployed</th>\n",
              "      <th>job_unknown</th>\n",
              "      <th>marital_divorced</th>\n",
              "      <th>marital_married</th>\n",
              "      <th>marital_single</th>\n",
              "      <th>marital_unknown</th>\n",
              "      <th>education_basic.4y</th>\n",
              "      <th>education_basic.6y</th>\n",
              "      <th>education_basic.9y</th>\n",
              "      <th>education_high.school</th>\n",
              "      <th>education_illiterate</th>\n",
              "      <th>education_professional.course</th>\n",
              "      <th>education_university.degree</th>\n",
              "      <th>education_unknown</th>\n",
              "      <th>default_no</th>\n",
              "      <th>default_unknown</th>\n",
              "      <th>default_yes</th>\n",
              "      <th>housing_no</th>\n",
              "      <th>housing_unknown</th>\n",
              "      <th>housing_yes</th>\n",
              "      <th>loan_no</th>\n",
              "      <th>loan_unknown</th>\n",
              "      <th>loan_yes</th>\n",
              "      <th>contact_cellular</th>\n",
              "      <th>contact_telephone</th>\n",
              "      <th>month_apr</th>\n",
              "      <th>month_aug</th>\n",
              "      <th>month_dec</th>\n",
              "      <th>month_jul</th>\n",
              "      <th>month_jun</th>\n",
              "      <th>month_mar</th>\n",
              "      <th>month_may</th>\n",
              "      <th>month_nov</th>\n",
              "      <th>month_oct</th>\n",
              "      <th>month_sep</th>\n",
              "      <th>day_of_week_fri</th>\n",
              "      <th>day_of_week_mon</th>\n",
              "      <th>day_of_week_thu</th>\n",
              "      <th>day_of_week_tue</th>\n",
              "      <th>day_of_week_wed</th>\n",
              "      <th>poutcome_failure</th>\n",
              "      <th>poutcome_nonexistent</th>\n",
              "      <th>poutcome_success</th>\n",
              "    </tr>\n",
              "  </thead>\n",
              "  <tbody>\n",
              "    <tr>\n",
              "      <th>0</th>\n",
              "      <td>0</td>\n",
              "      <td>0</td>\n",
              "      <td>0</td>\n",
              "      <td>1</td>\n",
              "      <td>0</td>\n",
              "      <td>0</td>\n",
              "      <td>0</td>\n",
              "      <td>0</td>\n",
              "      <td>0</td>\n",
              "      <td>0</td>\n",
              "      <td>0</td>\n",
              "      <td>0</td>\n",
              "      <td>0</td>\n",
              "      <td>1</td>\n",
              "      <td>0</td>\n",
              "      <td>0</td>\n",
              "      <td>1</td>\n",
              "      <td>0</td>\n",
              "      <td>0</td>\n",
              "      <td>0</td>\n",
              "      <td>0</td>\n",
              "      <td>0</td>\n",
              "      <td>0</td>\n",
              "      <td>0</td>\n",
              "      <td>1</td>\n",
              "      <td>0</td>\n",
              "      <td>0</td>\n",
              "      <td>1</td>\n",
              "      <td>0</td>\n",
              "      <td>0</td>\n",
              "      <td>1</td>\n",
              "      <td>0</td>\n",
              "      <td>0</td>\n",
              "      <td>0</td>\n",
              "      <td>1</td>\n",
              "      <td>0</td>\n",
              "      <td>0</td>\n",
              "      <td>0</td>\n",
              "      <td>0</td>\n",
              "      <td>0</td>\n",
              "      <td>0</td>\n",
              "      <td>1</td>\n",
              "      <td>0</td>\n",
              "      <td>0</td>\n",
              "      <td>0</td>\n",
              "      <td>0</td>\n",
              "      <td>1</td>\n",
              "      <td>0</td>\n",
              "      <td>0</td>\n",
              "      <td>0</td>\n",
              "      <td>0</td>\n",
              "      <td>1</td>\n",
              "      <td>0</td>\n",
              "    </tr>\n",
              "    <tr>\n",
              "      <th>1</th>\n",
              "      <td>0</td>\n",
              "      <td>0</td>\n",
              "      <td>0</td>\n",
              "      <td>0</td>\n",
              "      <td>0</td>\n",
              "      <td>0</td>\n",
              "      <td>0</td>\n",
              "      <td>1</td>\n",
              "      <td>0</td>\n",
              "      <td>0</td>\n",
              "      <td>0</td>\n",
              "      <td>0</td>\n",
              "      <td>0</td>\n",
              "      <td>1</td>\n",
              "      <td>0</td>\n",
              "      <td>0</td>\n",
              "      <td>0</td>\n",
              "      <td>0</td>\n",
              "      <td>0</td>\n",
              "      <td>1</td>\n",
              "      <td>0</td>\n",
              "      <td>0</td>\n",
              "      <td>0</td>\n",
              "      <td>0</td>\n",
              "      <td>0</td>\n",
              "      <td>1</td>\n",
              "      <td>0</td>\n",
              "      <td>1</td>\n",
              "      <td>0</td>\n",
              "      <td>0</td>\n",
              "      <td>1</td>\n",
              "      <td>0</td>\n",
              "      <td>0</td>\n",
              "      <td>0</td>\n",
              "      <td>1</td>\n",
              "      <td>0</td>\n",
              "      <td>0</td>\n",
              "      <td>0</td>\n",
              "      <td>0</td>\n",
              "      <td>0</td>\n",
              "      <td>0</td>\n",
              "      <td>1</td>\n",
              "      <td>0</td>\n",
              "      <td>0</td>\n",
              "      <td>0</td>\n",
              "      <td>0</td>\n",
              "      <td>1</td>\n",
              "      <td>0</td>\n",
              "      <td>0</td>\n",
              "      <td>0</td>\n",
              "      <td>0</td>\n",
              "      <td>1</td>\n",
              "      <td>0</td>\n",
              "    </tr>\n",
              "    <tr>\n",
              "      <th>2</th>\n",
              "      <td>0</td>\n",
              "      <td>0</td>\n",
              "      <td>0</td>\n",
              "      <td>0</td>\n",
              "      <td>0</td>\n",
              "      <td>0</td>\n",
              "      <td>0</td>\n",
              "      <td>1</td>\n",
              "      <td>0</td>\n",
              "      <td>0</td>\n",
              "      <td>0</td>\n",
              "      <td>0</td>\n",
              "      <td>0</td>\n",
              "      <td>1</td>\n",
              "      <td>0</td>\n",
              "      <td>0</td>\n",
              "      <td>0</td>\n",
              "      <td>0</td>\n",
              "      <td>0</td>\n",
              "      <td>1</td>\n",
              "      <td>0</td>\n",
              "      <td>0</td>\n",
              "      <td>0</td>\n",
              "      <td>0</td>\n",
              "      <td>1</td>\n",
              "      <td>0</td>\n",
              "      <td>0</td>\n",
              "      <td>0</td>\n",
              "      <td>0</td>\n",
              "      <td>1</td>\n",
              "      <td>1</td>\n",
              "      <td>0</td>\n",
              "      <td>0</td>\n",
              "      <td>0</td>\n",
              "      <td>1</td>\n",
              "      <td>0</td>\n",
              "      <td>0</td>\n",
              "      <td>0</td>\n",
              "      <td>0</td>\n",
              "      <td>0</td>\n",
              "      <td>0</td>\n",
              "      <td>1</td>\n",
              "      <td>0</td>\n",
              "      <td>0</td>\n",
              "      <td>0</td>\n",
              "      <td>0</td>\n",
              "      <td>1</td>\n",
              "      <td>0</td>\n",
              "      <td>0</td>\n",
              "      <td>0</td>\n",
              "      <td>0</td>\n",
              "      <td>1</td>\n",
              "      <td>0</td>\n",
              "    </tr>\n",
              "    <tr>\n",
              "      <th>3</th>\n",
              "      <td>1</td>\n",
              "      <td>0</td>\n",
              "      <td>0</td>\n",
              "      <td>0</td>\n",
              "      <td>0</td>\n",
              "      <td>0</td>\n",
              "      <td>0</td>\n",
              "      <td>0</td>\n",
              "      <td>0</td>\n",
              "      <td>0</td>\n",
              "      <td>0</td>\n",
              "      <td>0</td>\n",
              "      <td>0</td>\n",
              "      <td>1</td>\n",
              "      <td>0</td>\n",
              "      <td>0</td>\n",
              "      <td>0</td>\n",
              "      <td>1</td>\n",
              "      <td>0</td>\n",
              "      <td>0</td>\n",
              "      <td>0</td>\n",
              "      <td>0</td>\n",
              "      <td>0</td>\n",
              "      <td>0</td>\n",
              "      <td>1</td>\n",
              "      <td>0</td>\n",
              "      <td>0</td>\n",
              "      <td>1</td>\n",
              "      <td>0</td>\n",
              "      <td>0</td>\n",
              "      <td>1</td>\n",
              "      <td>0</td>\n",
              "      <td>0</td>\n",
              "      <td>0</td>\n",
              "      <td>1</td>\n",
              "      <td>0</td>\n",
              "      <td>0</td>\n",
              "      <td>0</td>\n",
              "      <td>0</td>\n",
              "      <td>0</td>\n",
              "      <td>0</td>\n",
              "      <td>1</td>\n",
              "      <td>0</td>\n",
              "      <td>0</td>\n",
              "      <td>0</td>\n",
              "      <td>0</td>\n",
              "      <td>1</td>\n",
              "      <td>0</td>\n",
              "      <td>0</td>\n",
              "      <td>0</td>\n",
              "      <td>0</td>\n",
              "      <td>1</td>\n",
              "      <td>0</td>\n",
              "    </tr>\n",
              "    <tr>\n",
              "      <th>4</th>\n",
              "      <td>0</td>\n",
              "      <td>0</td>\n",
              "      <td>0</td>\n",
              "      <td>0</td>\n",
              "      <td>0</td>\n",
              "      <td>0</td>\n",
              "      <td>0</td>\n",
              "      <td>1</td>\n",
              "      <td>0</td>\n",
              "      <td>0</td>\n",
              "      <td>0</td>\n",
              "      <td>0</td>\n",
              "      <td>0</td>\n",
              "      <td>1</td>\n",
              "      <td>0</td>\n",
              "      <td>0</td>\n",
              "      <td>0</td>\n",
              "      <td>0</td>\n",
              "      <td>0</td>\n",
              "      <td>1</td>\n",
              "      <td>0</td>\n",
              "      <td>0</td>\n",
              "      <td>0</td>\n",
              "      <td>0</td>\n",
              "      <td>1</td>\n",
              "      <td>0</td>\n",
              "      <td>0</td>\n",
              "      <td>1</td>\n",
              "      <td>0</td>\n",
              "      <td>0</td>\n",
              "      <td>0</td>\n",
              "      <td>0</td>\n",
              "      <td>1</td>\n",
              "      <td>0</td>\n",
              "      <td>1</td>\n",
              "      <td>0</td>\n",
              "      <td>0</td>\n",
              "      <td>0</td>\n",
              "      <td>0</td>\n",
              "      <td>0</td>\n",
              "      <td>0</td>\n",
              "      <td>1</td>\n",
              "      <td>0</td>\n",
              "      <td>0</td>\n",
              "      <td>0</td>\n",
              "      <td>0</td>\n",
              "      <td>1</td>\n",
              "      <td>0</td>\n",
              "      <td>0</td>\n",
              "      <td>0</td>\n",
              "      <td>0</td>\n",
              "      <td>1</td>\n",
              "      <td>0</td>\n",
              "    </tr>\n",
              "  </tbody>\n",
              "</table>\n",
              "</div>"
            ],
            "text/plain": [
              "   job_admin.  job_blue-collar  ...  poutcome_nonexistent  poutcome_success\n",
              "0           0                0  ...                     1                 0\n",
              "1           0                0  ...                     1                 0\n",
              "2           0                0  ...                     1                 0\n",
              "3           1                0  ...                     1                 0\n",
              "4           0                0  ...                     1                 0\n",
              "\n",
              "[5 rows x 53 columns]"
            ]
          },
          "metadata": {},
          "execution_count": 5
        }
      ]
    },
    {
      "cell_type": "code",
      "metadata": {
        "colab": {
          "base_uri": "https://localhost:8080/",
          "height": 423
        },
        "id": "LZZc_JYRedb6",
        "outputId": "1e16835c-8823-4c14-ce10-f185a7d82784"
      },
      "source": [
        "df_z_scaled = df[cols_num].copy() # normalizing the dataset\n",
        "df_z_scaled"
      ],
      "execution_count": null,
      "outputs": [
        {
          "output_type": "execute_result",
          "data": {
            "text/html": [
              "<div>\n",
              "<style scoped>\n",
              "    .dataframe tbody tr th:only-of-type {\n",
              "        vertical-align: middle;\n",
              "    }\n",
              "\n",
              "    .dataframe tbody tr th {\n",
              "        vertical-align: top;\n",
              "    }\n",
              "\n",
              "    .dataframe thead th {\n",
              "        text-align: right;\n",
              "    }\n",
              "</style>\n",
              "<table border=\"1\" class=\"dataframe\">\n",
              "  <thead>\n",
              "    <tr style=\"text-align: right;\">\n",
              "      <th></th>\n",
              "      <th>campaign</th>\n",
              "      <th>pdays</th>\n",
              "      <th>previous</th>\n",
              "      <th>emp.var.rate</th>\n",
              "      <th>cons.price.idx</th>\n",
              "      <th>cons.conf.idx</th>\n",
              "      <th>nr.employed</th>\n",
              "      <th>age</th>\n",
              "      <th>euribor3m</th>\n",
              "    </tr>\n",
              "  </thead>\n",
              "  <tbody>\n",
              "    <tr>\n",
              "      <th>0</th>\n",
              "      <td>1</td>\n",
              "      <td>999</td>\n",
              "      <td>0</td>\n",
              "      <td>1.1</td>\n",
              "      <td>93.994</td>\n",
              "      <td>-36.4</td>\n",
              "      <td>5191.0</td>\n",
              "      <td>56</td>\n",
              "      <td>4.857</td>\n",
              "    </tr>\n",
              "    <tr>\n",
              "      <th>1</th>\n",
              "      <td>1</td>\n",
              "      <td>999</td>\n",
              "      <td>0</td>\n",
              "      <td>1.1</td>\n",
              "      <td>93.994</td>\n",
              "      <td>-36.4</td>\n",
              "      <td>5191.0</td>\n",
              "      <td>57</td>\n",
              "      <td>4.857</td>\n",
              "    </tr>\n",
              "    <tr>\n",
              "      <th>2</th>\n",
              "      <td>1</td>\n",
              "      <td>999</td>\n",
              "      <td>0</td>\n",
              "      <td>1.1</td>\n",
              "      <td>93.994</td>\n",
              "      <td>-36.4</td>\n",
              "      <td>5191.0</td>\n",
              "      <td>37</td>\n",
              "      <td>4.857</td>\n",
              "    </tr>\n",
              "    <tr>\n",
              "      <th>3</th>\n",
              "      <td>1</td>\n",
              "      <td>999</td>\n",
              "      <td>0</td>\n",
              "      <td>1.1</td>\n",
              "      <td>93.994</td>\n",
              "      <td>-36.4</td>\n",
              "      <td>5191.0</td>\n",
              "      <td>40</td>\n",
              "      <td>4.857</td>\n",
              "    </tr>\n",
              "    <tr>\n",
              "      <th>4</th>\n",
              "      <td>1</td>\n",
              "      <td>999</td>\n",
              "      <td>0</td>\n",
              "      <td>1.1</td>\n",
              "      <td>93.994</td>\n",
              "      <td>-36.4</td>\n",
              "      <td>5191.0</td>\n",
              "      <td>56</td>\n",
              "      <td>4.857</td>\n",
              "    </tr>\n",
              "    <tr>\n",
              "      <th>...</th>\n",
              "      <td>...</td>\n",
              "      <td>...</td>\n",
              "      <td>...</td>\n",
              "      <td>...</td>\n",
              "      <td>...</td>\n",
              "      <td>...</td>\n",
              "      <td>...</td>\n",
              "      <td>...</td>\n",
              "      <td>...</td>\n",
              "    </tr>\n",
              "    <tr>\n",
              "      <th>41183</th>\n",
              "      <td>1</td>\n",
              "      <td>999</td>\n",
              "      <td>0</td>\n",
              "      <td>-1.1</td>\n",
              "      <td>94.767</td>\n",
              "      <td>-50.8</td>\n",
              "      <td>4963.6</td>\n",
              "      <td>73</td>\n",
              "      <td>1.028</td>\n",
              "    </tr>\n",
              "    <tr>\n",
              "      <th>41184</th>\n",
              "      <td>1</td>\n",
              "      <td>999</td>\n",
              "      <td>0</td>\n",
              "      <td>-1.1</td>\n",
              "      <td>94.767</td>\n",
              "      <td>-50.8</td>\n",
              "      <td>4963.6</td>\n",
              "      <td>46</td>\n",
              "      <td>1.028</td>\n",
              "    </tr>\n",
              "    <tr>\n",
              "      <th>41185</th>\n",
              "      <td>2</td>\n",
              "      <td>999</td>\n",
              "      <td>0</td>\n",
              "      <td>-1.1</td>\n",
              "      <td>94.767</td>\n",
              "      <td>-50.8</td>\n",
              "      <td>4963.6</td>\n",
              "      <td>56</td>\n",
              "      <td>1.028</td>\n",
              "    </tr>\n",
              "    <tr>\n",
              "      <th>41186</th>\n",
              "      <td>1</td>\n",
              "      <td>999</td>\n",
              "      <td>0</td>\n",
              "      <td>-1.1</td>\n",
              "      <td>94.767</td>\n",
              "      <td>-50.8</td>\n",
              "      <td>4963.6</td>\n",
              "      <td>44</td>\n",
              "      <td>1.028</td>\n",
              "    </tr>\n",
              "    <tr>\n",
              "      <th>41187</th>\n",
              "      <td>3</td>\n",
              "      <td>999</td>\n",
              "      <td>1</td>\n",
              "      <td>-1.1</td>\n",
              "      <td>94.767</td>\n",
              "      <td>-50.8</td>\n",
              "      <td>4963.6</td>\n",
              "      <td>74</td>\n",
              "      <td>1.028</td>\n",
              "    </tr>\n",
              "  </tbody>\n",
              "</table>\n",
              "<p>41188 rows × 9 columns</p>\n",
              "</div>"
            ],
            "text/plain": [
              "       campaign  pdays  previous  ...  nr.employed  age  euribor3m\n",
              "0             1    999         0  ...       5191.0   56      4.857\n",
              "1             1    999         0  ...       5191.0   57      4.857\n",
              "2             1    999         0  ...       5191.0   37      4.857\n",
              "3             1    999         0  ...       5191.0   40      4.857\n",
              "4             1    999         0  ...       5191.0   56      4.857\n",
              "...         ...    ...       ...  ...          ...  ...        ...\n",
              "41183         1    999         0  ...       4963.6   73      1.028\n",
              "41184         1    999         0  ...       4963.6   46      1.028\n",
              "41185         2    999         0  ...       4963.6   56      1.028\n",
              "41186         1    999         0  ...       4963.6   44      1.028\n",
              "41187         3    999         1  ...       4963.6   74      1.028\n",
              "\n",
              "[41188 rows x 9 columns]"
            ]
          },
          "metadata": {},
          "execution_count": 6
        }
      ]
    },
    {
      "cell_type": "code",
      "metadata": {
        "colab": {
          "base_uri": "https://localhost:8080/",
          "height": 423
        },
        "id": "MCnjtHsHeiRX",
        "outputId": "b573ec9e-01fc-4344-d107-238463b9453d"
      },
      "source": [
        "# copy the data\n",
        "  \n",
        "# apply normalization techniques\n",
        "for column in df_z_scaled.columns:\n",
        "    df_z_scaled[column] = (df_z_scaled[column] -\n",
        "                           df_z_scaled[column].mean()) / df_z_scaled[column].std()    \n",
        "  \n",
        "# view normalized data   \n",
        "display(df_z_scaled)"
      ],
      "execution_count": null,
      "outputs": [
        {
          "output_type": "display_data",
          "data": {
            "text/html": [
              "<div>\n",
              "<style scoped>\n",
              "    .dataframe tbody tr th:only-of-type {\n",
              "        vertical-align: middle;\n",
              "    }\n",
              "\n",
              "    .dataframe tbody tr th {\n",
              "        vertical-align: top;\n",
              "    }\n",
              "\n",
              "    .dataframe thead th {\n",
              "        text-align: right;\n",
              "    }\n",
              "</style>\n",
              "<table border=\"1\" class=\"dataframe\">\n",
              "  <thead>\n",
              "    <tr style=\"text-align: right;\">\n",
              "      <th></th>\n",
              "      <th>campaign</th>\n",
              "      <th>pdays</th>\n",
              "      <th>previous</th>\n",
              "      <th>emp.var.rate</th>\n",
              "      <th>cons.price.idx</th>\n",
              "      <th>cons.conf.idx</th>\n",
              "      <th>nr.employed</th>\n",
              "      <th>age</th>\n",
              "      <th>euribor3m</th>\n",
              "    </tr>\n",
              "  </thead>\n",
              "  <tbody>\n",
              "    <tr>\n",
              "      <th>0</th>\n",
              "      <td>-0.565915</td>\n",
              "      <td>0.195412</td>\n",
              "      <td>-0.349490</td>\n",
              "      <td>0.648084</td>\n",
              "      <td>0.722714</td>\n",
              "      <td>0.886436</td>\n",
              "      <td>0.331676</td>\n",
              "      <td>1.533016</td>\n",
              "      <td>0.712451</td>\n",
              "    </tr>\n",
              "    <tr>\n",
              "      <th>1</th>\n",
              "      <td>-0.565915</td>\n",
              "      <td>0.195412</td>\n",
              "      <td>-0.349490</td>\n",
              "      <td>0.648084</td>\n",
              "      <td>0.722714</td>\n",
              "      <td>0.886436</td>\n",
              "      <td>0.331676</td>\n",
              "      <td>1.628973</td>\n",
              "      <td>0.712451</td>\n",
              "    </tr>\n",
              "    <tr>\n",
              "      <th>2</th>\n",
              "      <td>-0.565915</td>\n",
              "      <td>0.195412</td>\n",
              "      <td>-0.349490</td>\n",
              "      <td>0.648084</td>\n",
              "      <td>0.722714</td>\n",
              "      <td>0.886436</td>\n",
              "      <td>0.331676</td>\n",
              "      <td>-0.290182</td>\n",
              "      <td>0.712451</td>\n",
              "    </tr>\n",
              "    <tr>\n",
              "      <th>3</th>\n",
              "      <td>-0.565915</td>\n",
              "      <td>0.195412</td>\n",
              "      <td>-0.349490</td>\n",
              "      <td>0.648084</td>\n",
              "      <td>0.722714</td>\n",
              "      <td>0.886436</td>\n",
              "      <td>0.331676</td>\n",
              "      <td>-0.002309</td>\n",
              "      <td>0.712451</td>\n",
              "    </tr>\n",
              "    <tr>\n",
              "      <th>4</th>\n",
              "      <td>-0.565915</td>\n",
              "      <td>0.195412</td>\n",
              "      <td>-0.349490</td>\n",
              "      <td>0.648084</td>\n",
              "      <td>0.722714</td>\n",
              "      <td>0.886436</td>\n",
              "      <td>0.331676</td>\n",
              "      <td>1.533016</td>\n",
              "      <td>0.712451</td>\n",
              "    </tr>\n",
              "    <tr>\n",
              "      <th>...</th>\n",
              "      <td>...</td>\n",
              "      <td>...</td>\n",
              "      <td>...</td>\n",
              "      <td>...</td>\n",
              "      <td>...</td>\n",
              "      <td>...</td>\n",
              "      <td>...</td>\n",
              "      <td>...</td>\n",
              "      <td>...</td>\n",
              "    </tr>\n",
              "    <tr>\n",
              "      <th>41183</th>\n",
              "      <td>-0.565915</td>\n",
              "      <td>0.195412</td>\n",
              "      <td>-0.349490</td>\n",
              "      <td>-0.752333</td>\n",
              "      <td>2.058143</td>\n",
              "      <td>-2.224926</td>\n",
              "      <td>-2.815662</td>\n",
              "      <td>3.164298</td>\n",
              "      <td>-1.495168</td>\n",
              "    </tr>\n",
              "    <tr>\n",
              "      <th>41184</th>\n",
              "      <td>-0.565915</td>\n",
              "      <td>0.195412</td>\n",
              "      <td>-0.349490</td>\n",
              "      <td>-0.752333</td>\n",
              "      <td>2.058143</td>\n",
              "      <td>-2.224926</td>\n",
              "      <td>-2.815662</td>\n",
              "      <td>0.573438</td>\n",
              "      <td>-1.495168</td>\n",
              "    </tr>\n",
              "    <tr>\n",
              "      <th>41185</th>\n",
              "      <td>-0.204906</td>\n",
              "      <td>0.195412</td>\n",
              "      <td>-0.349490</td>\n",
              "      <td>-0.752333</td>\n",
              "      <td>2.058143</td>\n",
              "      <td>-2.224926</td>\n",
              "      <td>-2.815662</td>\n",
              "      <td>1.533016</td>\n",
              "      <td>-1.495168</td>\n",
              "    </tr>\n",
              "    <tr>\n",
              "      <th>41186</th>\n",
              "      <td>-0.565915</td>\n",
              "      <td>0.195412</td>\n",
              "      <td>-0.349490</td>\n",
              "      <td>-0.752333</td>\n",
              "      <td>2.058143</td>\n",
              "      <td>-2.224926</td>\n",
              "      <td>-2.815662</td>\n",
              "      <td>0.381522</td>\n",
              "      <td>-1.495168</td>\n",
              "    </tr>\n",
              "    <tr>\n",
              "      <th>41187</th>\n",
              "      <td>0.156103</td>\n",
              "      <td>0.195412</td>\n",
              "      <td>1.671116</td>\n",
              "      <td>-0.752333</td>\n",
              "      <td>2.058143</td>\n",
              "      <td>-2.224926</td>\n",
              "      <td>-2.815662</td>\n",
              "      <td>3.260256</td>\n",
              "      <td>-1.495168</td>\n",
              "    </tr>\n",
              "  </tbody>\n",
              "</table>\n",
              "<p>41188 rows × 9 columns</p>\n",
              "</div>"
            ],
            "text/plain": [
              "       campaign     pdays  previous  ...  nr.employed       age  euribor3m\n",
              "0     -0.565915  0.195412 -0.349490  ...     0.331676  1.533016   0.712451\n",
              "1     -0.565915  0.195412 -0.349490  ...     0.331676  1.628973   0.712451\n",
              "2     -0.565915  0.195412 -0.349490  ...     0.331676 -0.290182   0.712451\n",
              "3     -0.565915  0.195412 -0.349490  ...     0.331676 -0.002309   0.712451\n",
              "4     -0.565915  0.195412 -0.349490  ...     0.331676  1.533016   0.712451\n",
              "...         ...       ...       ...  ...          ...       ...        ...\n",
              "41183 -0.565915  0.195412 -0.349490  ...    -2.815662  3.164298  -1.495168\n",
              "41184 -0.565915  0.195412 -0.349490  ...    -2.815662  0.573438  -1.495168\n",
              "41185 -0.204906  0.195412 -0.349490  ...    -2.815662  1.533016  -1.495168\n",
              "41186 -0.565915  0.195412 -0.349490  ...    -2.815662  0.381522  -1.495168\n",
              "41187  0.156103  0.195412  1.671116  ...    -2.815662  3.260256  -1.495168\n",
              "\n",
              "[41188 rows x 9 columns]"
            ]
          },
          "metadata": {}
        }
      ]
    },
    {
      "cell_type": "code",
      "metadata": {
        "id": "3H-RYiJweldv"
      },
      "source": [
        "cols_all_cat=list(cols_new_cat.columns)"
      ],
      "execution_count": null,
      "outputs": []
    },
    {
      "cell_type": "code",
      "metadata": {
        "id": "vyADgbpReoEn"
      },
      "source": [
        "df = pd.concat([df_z_scaled,cols_new_cat], axis = 1) #merging categorical columns and normalized numerical columns"
      ],
      "execution_count": null,
      "outputs": []
    },
    {
      "cell_type": "code",
      "metadata": {
        "id": "yDRLfMEaeq1v"
      },
      "source": [
        "df1=pd.read_csv('/content/drive/MyDrive/DA Project/bank-additional-full.csv',sep=';')"
      ],
      "execution_count": null,
      "outputs": []
    },
    {
      "cell_type": "code",
      "metadata": {
        "id": "4ugicJpXezTS"
      },
      "source": [
        "del df1['duration']"
      ],
      "execution_count": null,
      "outputs": []
    },
    {
      "cell_type": "code",
      "metadata": {
        "id": "D1CQelOFe1TU"
      },
      "source": [
        "df=pd.concat([df,df1['y']], axis = 1)"
      ],
      "execution_count": null,
      "outputs": []
    },
    {
      "cell_type": "code",
      "metadata": {
        "colab": {
          "base_uri": "https://localhost:8080/"
        },
        "id": "W4PANmk7e363",
        "outputId": "e5836bf7-10f2-42b5-ad7d-6d5f6fd54947"
      },
      "source": [
        "df.groupby('y').size()"
      ],
      "execution_count": null,
      "outputs": [
        {
          "output_type": "execute_result",
          "data": {
            "text/plain": [
              "y\n",
              "no     36548\n",
              "yes     4640\n",
              "dtype: int64"
            ]
          },
          "metadata": {},
          "execution_count": 13
        }
      ]
    },
    {
      "cell_type": "code",
      "metadata": {
        "id": "OmqmSQnRe61I"
      },
      "source": [
        "df['y'] = (df.y == 'yes').astype('int') #taking output values as a binary 1 or 0 instead of yes or no"
      ],
      "execution_count": null,
      "outputs": []
    },
    {
      "cell_type": "code",
      "metadata": {
        "colab": {
          "base_uri": "https://localhost:8080/"
        },
        "id": "MeiX-lsYe9Aj",
        "outputId": "ea46cb77-57ff-4a4f-9b69-609891e1accd"
      },
      "source": [
        "df.groupby('y').size()"
      ],
      "execution_count": null,
      "outputs": [
        {
          "output_type": "execute_result",
          "data": {
            "text/plain": [
              "y\n",
              "0    36548\n",
              "1     4640\n",
              "dtype: int64"
            ]
          },
          "metadata": {},
          "execution_count": 15
        }
      ]
    },
    {
      "cell_type": "code",
      "metadata": {
        "colab": {
          "base_uri": "https://localhost:8080/"
        },
        "id": "NoOJJk4Ge--V",
        "outputId": "456c359f-edfa-49d8-ed79-ca3edecbead4"
      },
      "source": [
        "from collections import Counter\n",
        "from sklearn.datasets import make_classification\n",
        "from matplotlib import pyplot\n",
        "from numpy import where\n",
        "y1 = df['y']\n",
        "X1 = df.values[:, :-1]\n",
        "counter = Counter(y1)\n",
        "print(counter)"
      ],
      "execution_count": null,
      "outputs": [
        {
          "output_type": "stream",
          "name": "stdout",
          "text": [
            "Counter({0: 36548, 1: 4640})\n"
          ]
        }
      ]
    },
    {
      "cell_type": "code",
      "metadata": {
        "id": "BKTRoPD7fCic"
      },
      "source": [
        "from imblearn.under_sampling import NearMiss"
      ],
      "execution_count": null,
      "outputs": []
    },
    {
      "cell_type": "code",
      "metadata": {
        "colab": {
          "base_uri": "https://localhost:8080/"
        },
        "id": "_KTnMA6PfE_1",
        "outputId": "aa5a9f34-2c39-4337-aab8-61ec3ddb6a01"
      },
      "source": [
        "undersample = NearMiss(version=2, n_neighbors=3)\n",
        "# transform the dataset\n",
        "X, y = undersample.fit_resample(X1, y1)\n",
        "# summarize the new class distribution\n",
        "counter = Counter(y)\n",
        "print(counter)"
      ],
      "execution_count": null,
      "outputs": [
        {
          "output_type": "stream",
          "name": "stdout",
          "text": [
            "Counter({0: 4640, 1: 4640})\n"
          ]
        }
      ]
    },
    {
      "cell_type": "code",
      "metadata": {
        "id": "vqH-8EGufHS4"
      },
      "source": [
        "from sklearn.model_selection import train_test_split\n",
        "\n",
        "X_train, X_test, y_train, y_test = train_test_split(X,y,test_size=0.25,random_state=50)"
      ],
      "execution_count": null,
      "outputs": []
    },
    {
      "cell_type": "code",
      "metadata": {
        "id": "6-YYDnazoA7G"
      },
      "source": [
        "from sklearn.model_selection import RandomizedSearchCV\n",
        "from sklearn.metrics import make_scorer, roc_auc_score\n",
        "score = make_scorer(roc_auc_score)"
      ],
      "execution_count": null,
      "outputs": []
    },
    {
      "cell_type": "code",
      "metadata": {
        "id": "pqk8kEwtoV-p"
      },
      "source": [
        "#Setting parameter search for randomized search CV\n",
        "max_depth = range(1,8,1)\n",
        "learning_rate = [0.001,0.005,0.01,0.05,0.1,0.5,1.0]\n",
        "n_classifiers = range(40,200,10)"
      ],
      "execution_count": null,
      "outputs": []
    },
    {
      "cell_type": "code",
      "metadata": {
        "colab": {
          "base_uri": "https://localhost:8080/"
        },
        "id": "jsjrZUP5pIOY",
        "outputId": "85fe53e1-484b-4921-ab60-527e105df9fa"
      },
      "source": [
        "dummy_model = GradientBoostingClassifier()\n",
        "gridSearchParams= {'n_estimators' : n_classifiers , 'max_depth' : max_depth , 'learning_rate' : learning_rate}\n",
        "gridSearch = RandomizedSearchCV(estimator=dummy_model,param_distributions=gridSearchParams,n_iter=30,cv=3,scoring=score,verbose=1,random_state=50)\n",
        "gridSearch.fit(X_train,y_train)\n",
        "gridSearch.best_params_ #Parameters of the best model"
      ],
      "execution_count": null,
      "outputs": [
        {
          "output_type": "stream",
          "name": "stdout",
          "text": [
            "Fitting 3 folds for each of 30 candidates, totalling 90 fits\n"
          ]
        },
        {
          "output_type": "execute_result",
          "data": {
            "text/plain": [
              "{'learning_rate': 0.5, 'max_depth': 3, 'n_estimators': 80}"
            ]
          },
          "metadata": {},
          "execution_count": 24
        }
      ]
    },
    {
      "cell_type": "code",
      "metadata": {
        "id": "41OziALEfRkM"
      },
      "source": [
        "model = GradientBoostingClassifier(n_estimators=80,learning_rate=0.5,max_depth=3,random_state=50)"
      ],
      "execution_count": null,
      "outputs": []
    },
    {
      "cell_type": "code",
      "metadata": {
        "colab": {
          "base_uri": "https://localhost:8080/"
        },
        "id": "vDPSOw0nhXOE",
        "outputId": "c9361fa2-737c-40e1-a0ca-e643d2cf0ac8"
      },
      "source": [
        "model.fit(X_train,y_train)"
      ],
      "execution_count": null,
      "outputs": [
        {
          "output_type": "execute_result",
          "data": {
            "text/plain": [
              "GradientBoostingClassifier(learning_rate=0.5, n_estimators=80, random_state=50)"
            ]
          },
          "metadata": {},
          "execution_count": 26
        }
      ]
    },
    {
      "cell_type": "code",
      "metadata": {
        "colab": {
          "base_uri": "https://localhost:8080/"
        },
        "id": "eVT7JJp8hdb2",
        "outputId": "389a2b41-c91f-4b04-bb4f-6df012969074"
      },
      "source": [
        "ypred = model.predict(X_test)\n",
        "ypred"
      ],
      "execution_count": null,
      "outputs": [
        {
          "output_type": "execute_result",
          "data": {
            "text/plain": [
              "array([0, 0, 0, ..., 1, 0, 1])"
            ]
          },
          "metadata": {},
          "execution_count": 27
        }
      ]
    },
    {
      "cell_type": "code",
      "metadata": {
        "colab": {
          "base_uri": "https://localhost:8080/"
        },
        "id": "Ej7wgu4Ehojk",
        "outputId": "b4495700-9625-4693-e31a-6bedd0bf51f4"
      },
      "source": [
        "sklearn.metrics.precision_recall_fscore_support(y_test,ypred,average='binary')"
      ],
      "execution_count": null,
      "outputs": [
        {
          "output_type": "execute_result",
          "data": {
            "text/plain": [
              "(0.8473824312333629, 0.8239861949956859, 0.8355205599300087, None)"
            ]
          },
          "metadata": {},
          "execution_count": 28
        }
      ]
    },
    {
      "cell_type": "code",
      "metadata": {
        "colab": {
          "base_uri": "https://localhost:8080/"
        },
        "id": "AJ-CERiLh00K",
        "outputId": "cef0cbcc-8427-486a-8d25-5c154df40fc8"
      },
      "source": [
        "sklearn.metrics.accuracy_score(y_test,ypred)"
      ],
      "execution_count": null,
      "outputs": [
        {
          "output_type": "execute_result",
          "data": {
            "text/plain": [
              "0.8379310344827586"
            ]
          },
          "metadata": {},
          "execution_count": 29
        }
      ]
    },
    {
      "cell_type": "code",
      "metadata": {
        "id": "AxhNUnVMmM_f"
      },
      "source": [
        "ytestprob = model.predict_proba(X_test)"
      ],
      "execution_count": null,
      "outputs": []
    },
    {
      "cell_type": "code",
      "metadata": {
        "id": "NXLhYmnCmXMZ"
      },
      "source": [
        "ytestprob1 = [x[1] for x in ytestprob]"
      ],
      "execution_count": null,
      "outputs": []
    },
    {
      "cell_type": "code",
      "metadata": {
        "id": "otkbAJKPmd02"
      },
      "source": [
        "# Function that plots a Lift Curve using the real label values of a dataset and the probability predictions of a Machine Learning Algorithm/model\n",
        "# @Params:\n",
        "# y_val: real labels of the data\n",
        "# y_pred: probability predictions for such data\n",
        "# step: how big we want the steps in the percentiles to be\n",
        "\n",
        "def plot_Lift_curve(y_val, y_pred, step=0.01):\n",
        "    \n",
        "    #Define an auxiliar dataframe to plot the curve\n",
        "    aux_lift = pd.DataFrame()\n",
        "    #Create a real and predicted column for our new DataFrame and assign values\n",
        "    aux_lift['real'] = y_val\n",
        "    aux_lift['predicted'] = y_pred\n",
        "    #Order the values for the predicted probability column:\n",
        "    aux_lift.sort_values('predicted',ascending=False,inplace=True)\n",
        "    \n",
        "    #Create the values that will go into the X axis of our plot\n",
        "    x_val = np.arange(step,1+step,step)\n",
        "    #Calculate the ratio of ones in our data\n",
        "    ratio_ones = aux_lift['real'].sum() / len(aux_lift)\n",
        "    #Create an empty vector with the values that will go on the Y axis our our plot\n",
        "    y_v = []\n",
        "    \n",
        "    #Calculate for each x value its correspondent y value\n",
        "    for x in x_val:\n",
        "        num_data = int(np.ceil(x*len(aux_lift))) #The ceil function returns the closest integer bigger than our number \n",
        "        data_here = aux_lift.iloc[:num_data,:]   # ie. np.ceil(1.4) = 2\n",
        "        ratio_ones_here = data_here['real'].sum()/len(data_here)\n",
        "        y_v.append(ratio_ones_here / ratio_ones)\n",
        "           \n",
        "   #Plot the figure\n",
        "    fig, axis = plt.subplots()\n",
        "    fig.figsize = (40,40)\n",
        "    axis.plot(x_val, y_v, 'g-', linewidth = 3, markersize = 5)\n",
        "    axis.plot(x_val, np.ones(len(x_val)), 'k-')\n",
        "    axis.grid(True)\n",
        "    axis.set_xlabel('Proportion of sample')\n",
        "    axis.set_ylabel('Lift')\n",
        "    plt.title('Lift Curve')\n",
        "    plt.show()"
      ],
      "execution_count": null,
      "outputs": []
    },
    {
      "cell_type": "code",
      "metadata": {
        "colab": {
          "base_uri": "https://localhost:8080/",
          "height": 295
        },
        "id": "ieX_t7pdmixz",
        "outputId": "b1abe517-6dbe-48f9-95b8-909121c0e43a"
      },
      "source": [
        "plot_Lift_curve(y_test,ytestprob1)"
      ],
      "execution_count": null,
      "outputs": [
        {
          "output_type": "display_data",
          "data": {
            "image/png": "[encoded data removed]",
            "text/plain": [
              "<Figure size 432x288 with 1 Axes>"
            ]
          },
          "metadata": {
            "needs_background": "light"
          }
        }
      ]
    },
    {
      "cell_type": "code",
      "metadata": {
        "colab": {
          "base_uri": "https://localhost:8080/"
        },
        "id": "T-mlnRssmsWz",
        "outputId": "7f535ec1-b921-462e-8cfc-4a22e949b9cf"
      },
      "source": [
        "!pip install scikit-plot"
      ],
      "execution_count": null,
      "outputs": [
        {
          "output_type": "stream",
          "name": "stdout",
          "text": [
            "Collecting scikit-plot\n",
            "  Downloading scikit_plot-0.3.7-py3-none-any.whl (33 kB)\n",
            "Requirement already satisfied: scikit-learn>=0.18 in /usr/local/lib/python3.7/dist-packages (from scikit-plot) (1.0.1)\n",
            "Requirement already satisfied: scipy>=0.9 in /usr/local/lib/python3.7/dist-packages (from scikit-plot) (1.4.1)\n",
            "Requirement already satisfied: matplotlib>=1.4.0 in /usr/local/lib/python3.7/dist-packages (from scikit-plot) (3.2.2)\n",
            "Requirement already satisfied: joblib>=0.10 in /usr/local/lib/python3.7/dist-packages (from scikit-plot) (1.1.0)\n",
            "Requirement already satisfied: cycler>=0.10 in /usr/local/lib/python3.7/dist-packages (from matplotlib>=1.4.0->scikit-plot) (0.11.0)\n",
            "Requirement already satisfied: python-dateutil>=2.1 in /usr/local/lib/python3.7/dist-packages (from matplotlib>=1.4.0->scikit-plot) (2.8.2)\n",
            "Requirement already satisfied: pyparsing!=2.0.4,!=2.1.2,!=2.1.6,>=2.0.1 in /usr/local/lib/python3.7/dist-packages (from matplotlib>=1.4.0->scikit-plot) (3.0.6)\n",
            "Requirement already satisfied: kiwisolver>=1.0.1 in /usr/local/lib/python3.7/dist-packages (from matplotlib>=1.4.0->scikit-plot) (1.3.2)\n",
            "Requirement already satisfied: numpy>=1.11 in /usr/local/lib/python3.7/dist-packages (from matplotlib>=1.4.0->scikit-plot) (1.19.5)\n",
            "Requirement already satisfied: six>=1.5 in /usr/local/lib/python3.7/dist-packages (from python-dateutil>=2.1->matplotlib>=1.4.0->scikit-plot) (1.15.0)\n",
            "Requirement already satisfied: threadpoolctl>=2.0.0 in /usr/local/lib/python3.7/dist-packages (from scikit-learn>=0.18->scikit-plot) (3.0.0)\n",
            "Installing collected packages: scikit-plot\n",
            "Successfully installed scikit-plot-0.3.7\n"
          ]
        }
      ]
    },
    {
      "cell_type": "code",
      "metadata": {
        "id": "K8ITkVpfmyzs"
      },
      "source": [
        "import scikitplot as skplt"
      ],
      "execution_count": null,
      "outputs": []
    },
    {
      "cell_type": "code",
      "metadata": {
        "colab": {
          "base_uri": "https://localhost:8080/",
          "height": 350
        },
        "id": "rE_8yviXn2ni",
        "outputId": "6fb13dda-72bd-4ebe-eecf-bbcc1ed1054b"
      },
      "source": [
        "skplt.metrics.plot_roc_curve(y_test, ytestprob)\n",
        "plt.title(\"ROC Curve : Gradient Boosting Classifier\")\n",
        "plt.show()"
      ],
      "execution_count": null,
      "outputs": [
        {
          "output_type": "stream",
          "name": "stderr",
          "text": [
            "/usr/local/lib/python3.7/dist-packages/sklearn/utils/deprecation.py:87: FutureWarning: Function plot_roc_curve is deprecated; This will be removed in v0.5.0. Please use scikitplot.metrics.plot_roc instead.\n",
            "  warnings.warn(msg, category=FutureWarning)\n"
          ]
        },
        {
          "output_type": "display_data",
          "data": {
            "image/png": "[encoded data removed]",
            "text/plain": [
              "<Figure size 432x288 with 1 Axes>"
            ]
          },
          "metadata": {
            "needs_background": "light"
          }
        }
      ]
    },
    {
      "cell_type": "code",
      "metadata": {
        "id": "ODaEZVFAoGAz"
      },
      "source": [
        ""
      ],
      "execution_count": null,
      "outputs": []
    }
  ]
}